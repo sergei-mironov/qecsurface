{
 "cells": [
  {
   "cell_type": "markdown",
   "id": "57380152-c939-4d50-98ab-db05ef00d65a",
   "metadata": {},
   "source": [
    "## The problem\n",
    "\n",
    "This document contains the solution for the surface code quantum error\n",
    "correction problem. The project repository is hosted on Github:\n",
    "\n",
    "https://github.com/sergei-mironov/qecsurface\n",
    "\n",
    "Your task is to **set up a distance 3 surface code using PennyLane**. If\n",
    "you are not familiar with Surface Codes, this may be a very useful\n",
    "resource: <https://arxiv.org/pdf/1404.3747>. Try to simulate **at least\n",
    "one cycle of the quantum error correction scheme** and give a quick\n",
    "interpretation of the results. Try **adding some noise to the circuit**\n",
    "(for example, add a random bit-flip in the circuit), and see what\n",
    "happens to the measurement. You should **describe in words how the\n",
    "decoding would happen**. If you have the extra time, feel free to also\n",
    "implement some **simple decoding protocols**. The expected output of\n",
    "this exercise is a Jupyter Notebook. But feel free to deliver your\n",
    "answer in whichever medium you see fit. Most importantly, try to learn\n",
    "about quantum error correction and give us an insight into the way you\n",
    "tackle difficult, unseen problems.\n",
    "\n",
    "## Setup"
   ]
  },
  {
   "cell_type": "code",
   "execution_count": 5,
   "id": "2f1f609d-758e-4291-8fbc-94884591af4c",
   "metadata": {},
   "outputs": [],
   "source": [
    "from numpy.testing import assert_allclose\n",
    "from qecsurface import *"
   ]
  },
  {
   "cell_type": "markdown",
   "id": "95836391-35f3-4e03-a7a6-fd3bbb9ebe64",
   "metadata": {},
   "source": [
    "## Basic operations"
   ]
  },
  {
   "cell_type": "code",
   "execution_count": 6,
   "id": "4b77f05c-79e9-4d31-aaca-05b9a82eabd1",
   "metadata": {},
   "outputs": [
    {
     "name": "stdout",
     "output_type": "stream",
     "text": [
      "0: ──|Ψ⟩────╭●──┤↗│  │0⟩─────────────────┤             \n",
      "1: ──H───╭●─╰X───║────────┤↗│  │0⟩───────┤             \n",
      "2: ──────╰X──────║─────────║────────X──Z─┤             \n",
      "                 ╚═════════║════════╩══║═╡  Sample[MCM]\n",
      "                           ╚═══════════╩═╡  Sample[MCM]\n"
     ]
    }
   ],
   "source": [
    "circuit_ft = FTComp(\n",
    "  FTOps([\n",
    "    FTInit(qubit=0, alpha=1.0, beta=0.0),         # Initialize the qubit in a known state\n",
    "    FTPrim(OpName.H, [1]),                        # Apply Hadamard to qubit 1\n",
    "    FTCtrl(control=1, op=FTPrim(OpName.X, [2])),  # Entangle qubits 1 and 2\n",
    "    FTCtrl(control=0, op=FTPrim(OpName.X, [1])),  # Bell state preparation\n",
    "    FTMeasure(qubit=0, label=\"m0\"),\n",
    "    FTMeasure(qubit=1, label=\"m1\")\n",
    "  ]),\n",
    "  FTComp(\n",
    "    FTOps([\n",
    "      FTCond(lambda m: m[\"m0\"] == 1, FTPrim(OpName.X, [2]))  # Conditional X based on m0\n",
    "    ]),\n",
    "    FTOps([\n",
    "      FTCond(lambda m: m[\"m1\"] == 1, FTPrim(OpName.Z, [2]))  # Conditional Z based on m1\n",
    "    ])\n",
    "  )\n",
    ")\n",
    "cPL = to_pennylane_mcm(circuit_ft)\n",
    "print(qml.draw(cPL)())"
   ]
  },
  {
   "cell_type": "markdown",
   "id": "029b2afb-a472-4642-b9fd-d1adb4b43f0c",
   "metadata": {},
   "source": [
    "## Bitflip error correction code"
   ]
  },
  {
   "cell_type": "code",
   "execution_count": 7,
   "id": "a74ddf91-9432-4739-acb3-3c8bc129f0a7",
   "metadata": {},
   "outputs": [
    {
     "name": "stdout",
     "output_type": "stream",
     "text": [
      "0: ──|Ψ⟩─╭●─╭●────╭●───────────────────────────────X───────┤ ╭Probs\n",
      "1: ──────╰X─│───X─│──╭●───────────╭●───────────────║──X────┤ ├Probs\n",
      "2: ─────────╰X────│──│────────────│──╭●────────────║──║──X─┤ ╰Probs\n",
      "3: ───────────────╰X─╰X──┤↗│  │0⟩─│──│─────────────║──║──║─┤       \n",
      "4: ───────────────────────║───────╰X─╰X──┤↗│  │0⟩──║──║──║─┤       \n",
      "                          ╚═══════════════║════════╬══╬══╣         \n",
      "                                          ╚════════╩══╩══╝         \n"
     ]
    }
   ],
   "source": [
    "data = [0, 1, 2]\n",
    "syndrome = [3, 4]\n",
    "cPL = to_pennylane_probs(reduce(FTComp, [\n",
    "  FTOps([FTInit(0, 1/2, 1/2)]),\n",
    "  bitflip_encode(0, data),\n",
    "  FTOps([FTPrim(OpName.X, [1])]), # Introducing an error\n",
    "  bitflip_detect(data, syndrome),\n",
    "  bitflip_correct(data),\n",
    "]), data)\n",
    "print(qml.draw(cPL)())\n",
    "probs = cPL()\n",
    "assert_allclose(probs, [0.5, 0.,  0.,  0.,  0.,  0.,  0.,  0.5])"
   ]
  },
  {
   "cell_type": "markdown",
   "id": "e733f40f-ecbb-44dc-a5ff-affa71b5eb27",
   "metadata": {},
   "source": [
    "## Surface25 error correction code\n",
    "\n",
    "Surface25 Quantum Error Correction Code\\[1\\] (with unified syndrome\n",
    "qubits) error correction cycle. The error correction routine corrects\n",
    "any single data qubit Pauli error.\n",
    "\n",
    "The simplifications are as follows: (1) Syndrome qubits are considered\n",
    "to be perfect; (2) Therefore, Hadamard check circuits are applied to\n",
    "data qubits without a specific order; (3) Further, to enhance simulation\n",
    "speed, all syndrome qubits are represented using a single qubit which is\n",
    "re-used after each syndrome measurement.\n",
    "\n",
    "\\[1\\] - https://arxiv.org/pdf/1404.3747"
   ]
  },
  {
   "cell_type": "code",
   "execution_count": 8,
   "id": "9272b3dd-3917-4f32-9de7-800e9faf33b7",
   "metadata": {},
   "outputs": [
    {
     "name": "stdout",
     "output_type": "stream",
     "text": [
      "Error syndrome:\n",
      "\n",
      "o   o   o\n",
      "  o Z o  \n",
      "o   o   o\n",
      "  o Z o  \n",
      "o   o   o\n",
      "\n"
     ]
    }
   ],
   "source": [
    "data = list(range(13))\n",
    "syndrome = [13]\n",
    "error_op, error_qubit = OpName.X, 6\n",
    "layer0,layer1,layer2 = 0,1,2\n",
    "c1,ml1 = surface25u_detect(data, syndrome, layer0)          # (a)\n",
    "err = FTOps([FTPrim(error_op,[error_qubit])])               # (b)\n",
    "c2,ml2 = surface25u_detect(data, syndrome, layer1)          # (c)\n",
    "corr = surface25u_correct(data, layer0, layer1)             # (d)\n",
    "c3,ml3 = surface25u_detect(data, syndrome, layer2)          # (e)\n",
    "cPL = to_pennylane_mcm(reduce(FTComp,[c1,err,c2,corr,c3]))  # (f)\n",
    "msms = cPL()                                                # (g)\n",
    "expected = surface25u_print2(msms, ml1)\n",
    "assert all(e not in expected for e in \"XZ\"), f\"Errors in the zero state:\\n{expected}\"\n",
    "synd = surface25u_print2(msms, ml2)\n",
    "print(\"Error syndrome:\")\n",
    "print(synd)\n",
    "assert any(e in synd for e in \"XZ\"), f\"Errors not found in the syndrome:\\n{synd}\"\n",
    "actual = surface25u_print2(msms, ml3)\n",
    "assert actual == expected, f\"Correction failed:\\n{actual}\""
   ]
  },
  {
   "cell_type": "markdown",
   "id": "f363cfb8-9bfe-4714-bfb7-d2f22583c443",
   "metadata": {},
   "source": [
    "The desired quantum circuit is first defined in a minimalistic EDSL from\n",
    "the `qecsurface.type` module. Various subcuruit building routines are\n",
    "defined in `qecsurface.qeccs`. The result is then lowered to PennyLane\n",
    "and simulated.\n",
    "\n",
    "Technical details: **(a)** - Initialize the logical-zero state;\n",
    "**(b)** - Introduce a data qubit error; **(c)** - Define an error\n",
    "detection circuit; **(d)** - Apply corrections using a trivial decoding\n",
    "protocol; **(e)** - Define the error detection for the second time;\n",
    "**(f)** - Stack the resulting circuits and convert them to the PennyLane\n",
    "format and **(g)** - Obtain the mid-circuitmeasurement samples (msms) by\n",
    "running the simulation."
   ]
  }
 ],
 "metadata": {
  "kernelspec": {
   "display_name": "Python 3 (ipykernel)",
   "language": "python",
   "name": "python3"
  },
  "language_info": {
   "codemirror_mode": {
    "name": "ipython",
    "version": 3
   },
   "file_extension": ".py",
   "mimetype": "text/x-python",
   "name": "python",
   "nbconvert_exporter": "python",
   "pygments_lexer": "ipython3",
   "version": "3.12.3"
  }
 },
 "nbformat": 4,
 "nbformat_minor": 5
}
